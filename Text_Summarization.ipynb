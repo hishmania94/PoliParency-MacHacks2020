{
 "cells": [
  {
   "cell_type": "code",
   "execution_count": 1,
   "metadata": {},
   "outputs": [],
   "source": [
    "from transformers import pipeline"
   ]
  },
  {
   "cell_type": "code",
   "execution_count": 2,
   "metadata": {},
   "outputs": [],
   "source": [
    "og_text = \"\"\" Whether for school, medical appointments, or to\n",
    "visit with family, people who call Canada’s North\n",
    "home need to travel – but the high cost of airfare\n",
    "can make it unaffordable for many. The current\n",
    "Northern Residents Deduction only allows people\n",
    "who already receive travel benefits through work to\n",
    "deduct travel costs, with no help for people whose\n",
    "work doesn’t help cover those costs. \"\"\""
   ]
  },
  {
   "cell_type": "code",
   "execution_count": 6,
   "metadata": {},
   "outputs": [],
   "source": [
    "def getSummary(og_paragraph):\n",
    "    summarization = pipeline(\"summarization\")\n",
    "    summary_text = summarization(og_paragraph, max_length=len(og_paragraph))\n",
    "    summary = list(summary_text[0].values())\n",
    "    return summary[0]"
   ]
  },
  {
   "cell_type": "code",
   "execution_count": 7,
   "metadata": {},
   "outputs": [
    {
     "output_type": "stream",
     "name": "stderr",
     "text": [
      "Your max_length is set to 385, but you input_length is only 91. You might consider decreasing max_length manually, e.g. summarizer('...', max_length=50)\n"
     ]
    },
    {
     "output_type": "execute_result",
     "data": {
      "text/plain": [
       "\" The current Northern Residents Deduction only allows people who already receive travel benefits through work to pay travel costs . There are no help for people whose work doesn't help cover those costs . People who live in Canada's North need to travel – but the high cost of airfare can make it unaffordable for many .\""
      ]
     },
     "metadata": {},
     "execution_count": 7
    }
   ],
   "source": [
    "getSummary(og_text)"
   ]
  },
  {
   "cell_type": "code",
   "execution_count": null,
   "metadata": {},
   "outputs": [],
   "source": []
  }
 ],
 "metadata": {
  "kernelspec": {
   "display_name": "Python 3",
   "language": "python",
   "name": "python3"
  },
  "language_info": {
   "codemirror_mode": {
    "name": "ipython",
    "version": 3
   },
   "file_extension": ".py",
   "mimetype": "text/x-python",
   "name": "python",
   "nbconvert_exporter": "python",
   "pygments_lexer": "ipython3",
   "version": "3.8.3-final"
  }
 },
 "nbformat": 4,
 "nbformat_minor": 2
}