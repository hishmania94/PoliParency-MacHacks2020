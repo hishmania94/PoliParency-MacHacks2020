{
 "metadata": {
  "language_info": {
   "codemirror_mode": {
    "name": "ipython",
    "version": 3
   },
   "file_extension": ".py",
   "mimetype": "text/x-python",
   "name": "python",
   "nbconvert_exporter": "python",
   "pygments_lexer": "ipython3",
   "version": "3.8.3-final"
  },
  "orig_nbformat": 2,
  "kernelspec": {
   "name": "python3",
   "display_name": "Python 3",
   "language": "python"
  }
 },
 "nbformat": 4,
 "nbformat_minor": 2,
 "cells": [
  {
   "cell_type": "code",
   "execution_count": 1,
   "metadata": {},
   "outputs": [],
   "source": [
    "## NLP Classification \n",
    "from transformers import pipeline\n",
    "import numpy as np"
   ]
  },
  {
   "cell_type": "code",
   "execution_count": 2,
   "metadata": {},
   "outputs": [
    {
     "output_type": "stream",
     "name": "stderr",
     "text": [
      "Some weights of the model checkpoint at facebook/bart-large-mnli were not used when initializing BartModel: ['model.encoder.version', 'model.decoder.version']\n",
      "- This IS expected if you are initializing BartModel from the checkpoint of a model trained on another task or with another architecture (e.g. initializing a BertForSequenceClassification model from a BertForPreTraining model).\n",
      "- This IS NOT expected if you are initializing BartModel from the checkpoint of a model that you expect to be exactly identical (initializing a BertForSequenceClassification model from a BertForSequenceClassification model).\n",
      "Some weights of the model checkpoint at facebook/bart-large-mnli were not used when initializing BartForSequenceClassification: ['model.encoder.version', 'model.decoder.version']\n",
      "- This IS expected if you are initializing BartForSequenceClassification from the checkpoint of a model trained on another task or with another architecture (e.g. initializing a BertForSequenceClassification model from a BertForPreTraining model).\n",
      "- This IS NOT expected if you are initializing BartForSequenceClassification from the checkpoint of a model that you expect to be exactly identical (initializing a BertForSequenceClassification model from a BertForSequenceClassification model).\n"
     ]
    }
   ],
   "source": [
    "classifier = pipeline(\"zero-shot-classification\")"
   ]
  },
  {
   "cell_type": "code",
   "execution_count": 3,
   "metadata": {},
   "outputs": [],
   "source": [
    "sequence = \"\"\"Whether for school, medical appointments, or to\n",
    "visit with family, people who call Canada’s North\n",
    "home need to travel – but the high cost of airfare\n",
    "can make it unaffordable for many. The current\n",
    "Northern Residents Deduction only allows people\n",
    "who already receive travel benefits through work to\n",
    "deduct travel costs, with no help for people whose\n",
    "work doesn’t help cover those costs.\"\"\"\n",
    "candidate_labels = [\"education\", \"Economy\", \"Environment\", \"Healthcare\", \"Housing\", \"Immigration\", \"Security\", \"Indeginous\", \"Transport\"]\n",
    "# output = classifier(sequence, candidate_labels, multi_class = True)"
   ]
  },
  {
   "cell_type": "code",
   "execution_count": 22,
   "metadata": {},
   "outputs": [],
   "source": [
    "def getLabel(og_paragraph, candidate_labels):\n",
    "    #classifier = pipeline(\"zero-shot-classification\")\n",
    "    output = classifier(og_paragraph, candidate_labels, multi_class = True)\n",
    "    test = output.values()\n",
    "    test_list = list(test)\n",
    "    output_label_idx = np.argmax(test_list[2])\n",
    "    print(output_label_idx)\n",
    "    print(test_list[1])\n",
    "    return test_list[1][output_label_idx]"
   ]
  },
  {
   "cell_type": "code",
   "execution_count": 23,
   "metadata": {},
   "outputs": [
    {
     "output_type": "stream",
     "name": "stdout",
     "text": [
      "0\n['Transport', 'Economy', 'Environment', 'Security', 'Indeginous', 'education', 'Healthcare', 'Housing', 'Immigration']\n"
     ]
    },
    {
     "output_type": "execute_result",
     "data": {
      "text/plain": [
       "'Transport'"
      ]
     },
     "metadata": {},
     "execution_count": 23
    }
   ],
   "source": [
    "getLabel(sequence, candidate_labels)"
   ]
  },
  {
   "cell_type": "code",
   "execution_count": null,
   "metadata": {},
   "outputs": [],
   "source": []
  },
  {
   "cell_type": "code",
   "execution_count": null,
   "metadata": {},
   "outputs": [],
   "source": []
  }
 ]
}